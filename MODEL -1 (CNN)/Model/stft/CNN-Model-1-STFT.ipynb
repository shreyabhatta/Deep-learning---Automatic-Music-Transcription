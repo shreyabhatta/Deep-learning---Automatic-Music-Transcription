{
  "nbformat": 4,
  "nbformat_minor": 0,
  "metadata": {
    "accelerator": "GPU",
    "colab": {
      "name": "Ananya- Model1-STFT.ipynb",
      "provenance": [],
      "collapsed_sections": [],
      "machine_shape": "hm"
    },
    "kernelspec": {
      "display_name": "Python 3",
      "name": "python3"
    },
    "language_info": {
      "name": "python"
    }
  },
  "cells": [
    {
      "cell_type": "code",
      "metadata": {
        "id": "T2pxbSvIWF_H"
      },
      "source": [
        "# Import the Libraries : \n",
        "import tensorflow as tf\n",
        "from tensorflow.keras import Sequential\n",
        "from tensorflow.keras import Input\n",
        "import numpy as np\n",
        "import pandas as pd\n",
        "import os\n",
        "import keras\n",
        "from keras.layers import Conv2D, MaxPool2D, add,Dropout,Dense,Flatten\n",
        "from keras.layers.normalization import BatchNormalization\n",
        "from keras.optimizers import Adam\n",
        "from keras.callbacks import EarlyStopping, Callback\n",
        "\n",
        "import sklearn\n",
        "from sklearn.metrics import precision_recall_fscore_support\n",
        "from numpy import save"
      ],
      "execution_count": null,
      "outputs": []
    },
    {
      "cell_type": "code",
      "metadata": {
        "colab": {
          "base_uri": "https://localhost:8080/"
        },
        "id": "uC9E_DAojOQp",
        "outputId": "b4a6d8e2-1e23-49a0-dc39-fc75c6842125"
      },
      "source": [
        "# Load the data set to the Google drive \n",
        "from google.colab import drive\n",
        "drive.mount('/content/drive')"
      ],
      "execution_count": null,
      "outputs": [
        {
          "output_type": "stream",
          "text": [
            "Mounted at /content/drive\n"
          ],
          "name": "stdout"
        }
      ]
    },
    {
      "cell_type": "code",
      "metadata": {
        "id": "vwl1bjNLyQhc"
      },
      "source": [
        "# we pass the data set into different pakages\n",
        "mini_batch_size = 700"
      ],
      "execution_count": null,
      "outputs": []
    },
    {
      "cell_type": "code",
      "metadata": {
        "colab": {
          "base_uri": "https://localhost:8080/"
        },
        "id": "KxAETiQUbFK6",
        "outputId": "f430a43f-4748-4f84-d6f6-e082f1a50b19"
      },
      "source": [
        "!ls \"/content/drive/MyDrive/test_source_output\""
      ],
      "execution_count": null,
      "outputs": [
        {
          "output_type": "stream",
          "text": [
            "X_final_STFT_test_source.npy  Y_final_STFT_test_source.npy\n"
          ],
          "name": "stdout"
        }
      ]
    },
    {
      "cell_type": "code",
      "metadata": {
        "colab": {
          "base_uri": "https://localhost:8080/"
        },
        "id": "dehBhwF_4_ua",
        "outputId": "6f4eb9d0-b743-40f3-e500-fafa510e5422"
      },
      "source": [
        "y_train=np.load('/content/drive/MyDrive/Y_final_STFT_.npy',mmap_mode= 'r')\n",
        "print(y_train.shape)"
      ],
      "execution_count": null,
      "outputs": [
        {
          "output_type": "stream",
          "text": [
            "(32519, 100, 1, 88)\n"
          ],
          "name": "stdout"
        }
      ]
    },
    {
      "cell_type": "code",
      "metadata": {
        "id": "-dcWsIXb5EdG",
        "colab": {
          "base_uri": "https://localhost:8080/"
        },
        "outputId": "15efebaa-d286-45d2-fd0a-a8a52057a179"
      },
      "source": [
        "X_train=np.load('/content/drive/MyDrive/X_final_STFT_.npy',mmap_mode= 'r')\n",
        "print(X_train.shape)"
      ],
      "execution_count": null,
      "outputs": [
        {
          "output_type": "stream",
          "text": [
            "(32519, 100, 1, 252)\n"
          ],
          "name": "stdout"
        }
      ]
    },
    {
      "cell_type": "code",
      "metadata": {
        "id": "3RWS8wCXEvBt",
        "colab": {
          "base_uri": "https://localhost:8080/"
        },
        "outputId": "460461a7-197b-4154-b2b6-4117187aee60"
      },
      "source": [
        "X_validation=np.load('/content/drive/MyDrive/test_source_output/X_final_STFT_test_source.npy',mmap_mode= 'r')\n",
        "print(X_validation.shape)"
      ],
      "execution_count": null,
      "outputs": [
        {
          "output_type": "stream",
          "text": [
            "(10351, 100, 1, 252)\n"
          ],
          "name": "stdout"
        }
      ]
    },
    {
      "cell_type": "code",
      "metadata": {
        "id": "K31otmFkE7Oa",
        "colab": {
          "base_uri": "https://localhost:8080/"
        },
        "outputId": "7d9a2eac-1b1f-41a8-ff37-daf3a0f4b1b2"
      },
      "source": [
        "y_validation=np.load('/content/drive/MyDrive/test_source_output/Y_final_STFT_test_source.npy',mmap_mode= 'r')\n",
        "print(y_validation.shape)"
      ],
      "execution_count": null,
      "outputs": [
        {
          "output_type": "stream",
          "text": [
            "(10351, 100, 1, 88)\n"
          ],
          "name": "stdout"
        }
      ]
    },
    {
      "cell_type": "code",
      "metadata": {
        "id": "Gx9-U5NdIuIw",
        "colab": {
          "base_uri": "https://localhost:8080/"
        },
        "outputId": "668adb81-c9cd-4867-90ea-20b07498c862"
      },
      "source": [
        "X_test=np.load('/content/drive/MyDrive/test_source_output/X_final_STFT_test_source.npy',mmap_mode= 'r')\n",
        "print(X_test.shape)"
      ],
      "execution_count": null,
      "outputs": [
        {
          "output_type": "stream",
          "text": [
            "(10351, 100, 1, 252)\n"
          ],
          "name": "stdout"
        }
      ]
    },
    {
      "cell_type": "code",
      "metadata": {
        "id": "ObiNX-zkIvA0",
        "colab": {
          "base_uri": "https://localhost:8080/"
        },
        "outputId": "3cd5f415-860b-4f41-f27f-c1ad60172955"
      },
      "source": [
        "y_test=np.load('/content/drive/MyDrive/test_source_output/Y_final_STFT_test_source.npy', mmap_mode= 'r')\n",
        "print(y_test.shape)"
      ],
      "execution_count": null,
      "outputs": [
        {
          "output_type": "stream",
          "text": [
            "(10351, 100, 1, 88)\n"
          ],
          "name": "stdout"
        }
      ]
    },
    {
      "cell_type": "code",
      "metadata": {
        "id": "8WHpSdposTkJ",
        "colab": {
          "base_uri": "https://localhost:8080/"
        },
        "outputId": "26667ab8-4a73-462b-d90f-858f8a0d0a15"
      },
      "source": [
        "# The X_train is converted to 4 dimension with a mini_batch size of 400 \n",
        "X_train = X_train[:int(X_train.shape[0]/mini_batch_size)*mini_batch_size,:]\n",
        "print(X_train.shape)"
      ],
      "execution_count": null,
      "outputs": [
        {
          "output_type": "stream",
          "text": [
            "(32200, 100, 1, 252)\n"
          ],
          "name": "stdout"
        }
      ]
    },
    {
      "cell_type": "code",
      "metadata": {
        "id": "xKiU1ADOsUbB",
        "colab": {
          "base_uri": "https://localhost:8080/"
        },
        "outputId": "e5978bef-a252-482c-dfed-f93cc5694da9"
      },
      "source": [
        "# The Y_train is converted to 4 dimension with a mini_batch size of 400 similar to X_train\n",
        "y_train = y_train[:int(y_train.shape[0]/mini_batch_size)*mini_batch_size,:]\n",
        "print(y_train.shape)"
      ],
      "execution_count": null,
      "outputs": [
        {
          "output_type": "stream",
          "text": [
            "(32200, 100, 1, 88)\n"
          ],
          "name": "stdout"
        }
      ]
    },
    {
      "cell_type": "code",
      "metadata": {
        "id": "Zi7nsfBMaKWh",
        "colab": {
          "base_uri": "https://localhost:8080/"
        },
        "outputId": "5a2a9760-c4e7-4ffb-e3cc-9a32ebf6774e"
      },
      "source": [
        "X_validation = X_validation[:int(X_validation.shape[0]/mini_batch_size)*mini_batch_size,:]\n",
        "print(X_validation.shape)"
      ],
      "execution_count": null,
      "outputs": [
        {
          "output_type": "stream",
          "text": [
            "(9800, 100, 1, 252)\n"
          ],
          "name": "stdout"
        }
      ]
    },
    {
      "cell_type": "code",
      "metadata": {
        "id": "7GzAnhXxaV0e",
        "colab": {
          "base_uri": "https://localhost:8080/"
        },
        "outputId": "bb3be881-805b-4dfe-ff93-18a0e91b813b"
      },
      "source": [
        "y_validation = y_validation[:int(y_validation.shape[0]/mini_batch_size)*mini_batch_size,:]\n",
        "print(y_validation.shape)"
      ],
      "execution_count": null,
      "outputs": [
        {
          "output_type": "stream",
          "text": [
            "(9800, 100, 1, 88)\n"
          ],
          "name": "stdout"
        }
      ]
    },
    {
      "cell_type": "code",
      "metadata": {
        "id": "_z5TfRCPkA_t",
        "colab": {
          "base_uri": "https://localhost:8080/"
        },
        "outputId": "335c40e8-cfd8-4ee0-9bed-69ac6309e75b"
      },
      "source": [
        "# Shapes of both X_train and y_train)\n",
        "print(X_train.shape)\n",
        "print(y_train.shape)"
      ],
      "execution_count": null,
      "outputs": [
        {
          "output_type": "stream",
          "text": [
            "(32200, 100, 1, 252)\n",
            "(32200, 100, 1, 88)\n"
          ],
          "name": "stdout"
        }
      ]
    },
    {
      "cell_type": "code",
      "metadata": {
        "id": "zwtDTlgaJEAn"
      },
      "source": [
        "# shape of validation set :\n",
        "print(X_validation.shape)\n",
        "print(y_validation.shape)"
      ],
      "execution_count": null,
      "outputs": []
    },
    {
      "cell_type": "code",
      "metadata": {
        "id": "HdwSG7TUj5tw"
      },
      "source": [
        "# preparing test and validation data\n",
        "train_data = tf.data.Dataset.from_tensor_slices((X_train,y_train))\n",
        "train_data = train_data.batch(mini_batch_size)\n",
        "\n",
        "validation_data = tf.data.Dataset.from_tensor_slices((X_validation,y_validation))\n",
        "validation_data = validation_data.batch(mini_batch_size)"
      ],
      "execution_count": null,
      "outputs": []
    },
    {
      "cell_type": "code",
      "metadata": {
        "id": "HlRDYMOXvBB8"
      },
      "source": [
        "# parameters for the layers of neural network \n",
        "window_size=7\n",
        "min_midi = 21\n",
        "max_midi = 108\n",
        "note_range = max_midi - min_midi + 1"
      ],
      "execution_count": null,
      "outputs": []
    },
    {
      "cell_type": "code",
      "metadata": {
        "id": "B6YkMthtTE4i"
      },
      "source": [
        "# layers of Model \n",
        "input_shape=(None,100,1,252) #number of samples\n",
        "model=Sequential()\n",
        "\n",
        "# 1st Layer \n",
        "model.add(Conv2D(filters=32, kernel_size=(5,4),padding=\"same\", activation='relu', input_shape=input_shape))\n",
        "model.add(BatchNormalization())\n",
        "model.add(Dropout(rate=0.2))\n",
        "\n",
        "# 2nd Layer \n",
        "model.add(Conv2D(filters=32, kernel_size=(3, 3),padding=\"same\", activation='relu'))\n",
        "model.add(BatchNormalization())\n",
        "model.add(Dropout(rate=0.2))\n",
        "model.add(MaxPool2D(pool_size=(1, 2),padding=\"same\"))\n",
        "\n",
        "#stage3\n",
        "model.add(Dense(1000, activation='relu'))\n",
        "model.add(BatchNormalization())\n",
        "model.add(Dropout(rate=0.5))\n",
        "\n",
        "# 4th Layer \n",
        "model.add(Dense(200, activation='relu'))\n",
        "model.add(BatchNormalization())\n",
        "model.add(Dropout(rate=0.5))\n",
        "\n",
        "# Output Layer\n",
        "model.add(Dense(88, activation='sigmoid'))"
      ],
      "execution_count": null,
      "outputs": []
    },
    {
      "cell_type": "code",
      "metadata": {
        "id": "eYyqPWpNbxhF"
      },
      "source": [
        "# Code for the Accuracy of the Model \n",
        "class AccuracyHistory(tf.keras.callbacks.Callback):\n",
        "    def on_train_begin(self, logs={}):\n",
        "        self.acc = []\n",
        "\n",
        "    def on_epoch_end(self, batch, logs={}):\n",
        "        self.acc.append(logs.get('acc'))"
      ],
      "execution_count": null,
      "outputs": []
    },
    {
      "cell_type": "code",
      "metadata": {
        "id": "bhVKImwVbo_2"
      },
      "source": [
        "# Calculating the accuracy of the model using adam as optimizer and the learning rate is 0.001\n",
        "optimizer1 = Adam(learning_rate=0.001)\n",
        "model.compile(loss='binary_crossentropy', optimizer= optimizer1, metrics=['accuracy'])\n",
        "history = AccuracyHistory()\n",
        "\n",
        "# checkpoint = ModelCheckpoint(model_ckpt,monitor='val_loss',verbose=1,save_best_only=True,mode='min')\n",
        "early_stop = EarlyStopping(patience=10, monitor='val_loss',verbose=1, mode='min')\n",
        "callbacks = [history]"
      ],
      "execution_count": null,
      "outputs": []
    },
    {
      "cell_type": "code",
      "metadata": {
        "id": "-r-7rgbykCNm",
        "colab": {
          "base_uri": "https://localhost:8080/"
        },
        "outputId": "bf327770-4627-453e-fa99-e663a9ac2a0e"
      },
      "source": [
        "model.fit(train_data,epochs=10,batch_size=mini_batch_size,validation_data=validation_data, verbose = 1, callbacks=callbacks)"
      ],
      "execution_count": null,
      "outputs": [
        {
          "output_type": "stream",
          "text": [
            "Epoch 1/10\n",
            "46/46 [==============================] - 534s 6s/step - loss: 0.6740 - accuracy: 0.0113 - val_loss: 0.5220 - val_accuracy: 0.0034\n",
            "Epoch 2/10\n",
            "46/46 [==============================] - 377s 8s/step - loss: 0.3778 - accuracy: 0.0095 - val_loss: 0.2308 - val_accuracy: 0.0093\n",
            "Epoch 3/10\n",
            "46/46 [==============================] - 375s 8s/step - loss: 0.2049 - accuracy: 0.0122 - val_loss: 0.1852 - val_accuracy: 0.0219\n",
            "Epoch 4/10\n",
            "46/46 [==============================] - 375s 8s/step - loss: 0.1843 - accuracy: 0.0177 - val_loss: 0.1789 - val_accuracy: 0.0219\n",
            "Epoch 5/10\n",
            "46/46 [==============================] - 375s 8s/step - loss: 0.1803 - accuracy: 0.0178 - val_loss: 0.1770 - val_accuracy: 0.0219\n",
            "Epoch 6/10\n",
            "46/46 [==============================] - 370s 8s/step - loss: 0.1787 - accuracy: 0.0176 - val_loss: 0.1762 - val_accuracy: 0.0219\n",
            "Epoch 7/10\n",
            "46/46 [==============================] - 371s 8s/step - loss: 0.1779 - accuracy: 0.0174 - val_loss: 0.1758 - val_accuracy: 0.0219\n",
            "Epoch 8/10\n",
            "46/46 [==============================] - 371s 8s/step - loss: 0.1774 - accuracy: 0.0174 - val_loss: 0.1755 - val_accuracy: 0.0219\n",
            "Epoch 9/10\n",
            "46/46 [==============================] - 367s 8s/step - loss: 0.1770 - accuracy: 0.0174 - val_loss: 0.1754 - val_accuracy: 0.0219\n",
            "Epoch 10/10\n",
            "46/46 [==============================] - 371s 8s/step - loss: 0.1769 - accuracy: 0.0174 - val_loss: 0.1753 - val_accuracy: 0.0219\n"
          ],
          "name": "stdout"
        },
        {
          "output_type": "execute_result",
          "data": {
            "text/plain": [
              "<tensorflow.python.keras.callbacks.History at 0x7f1f6a521d10>"
            ]
          },
          "metadata": {
            "tags": []
          },
          "execution_count": 30
        }
      ]
    },
    {
      "cell_type": "code",
      "metadata": {
        "id": "q-ON-d7okDY6",
        "colab": {
          "base_uri": "https://localhost:8080/"
        },
        "outputId": "b342961a-836f-471b-eb82-1ea8a68b7918"
      },
      "source": [
        "# Summary of the Model and dimension of different layers\n",
        "model.summary()"
      ],
      "execution_count": null,
      "outputs": [
        {
          "output_type": "stream",
          "text": [
            "Model: \"sequential\"\n",
            "_________________________________________________________________\n",
            "Layer (type)                 Output Shape              Param #   \n",
            "=================================================================\n",
            "module_wrapper (ModuleWrappe (None, 100, 1, 32)        161312    \n",
            "_________________________________________________________________\n",
            "module_wrapper_1 (ModuleWrap (None, 100, 1, 32)        128       \n",
            "_________________________________________________________________\n",
            "module_wrapper_2 (ModuleWrap (None, 100, 1, 32)        0         \n",
            "_________________________________________________________________\n",
            "module_wrapper_3 (ModuleWrap (None, 100, 1, 32)        9248      \n",
            "_________________________________________________________________\n",
            "module_wrapper_4 (ModuleWrap (None, 100, 1, 32)        128       \n",
            "_________________________________________________________________\n",
            "module_wrapper_5 (ModuleWrap (None, 100, 1, 32)        0         \n",
            "_________________________________________________________________\n",
            "module_wrapper_6 (ModuleWrap (None, 100, 1, 32)        0         \n",
            "_________________________________________________________________\n",
            "module_wrapper_7 (ModuleWrap (None, 100, 1, 1000)      33000     \n",
            "_________________________________________________________________\n",
            "module_wrapper_8 (ModuleWrap (None, 100, 1, 1000)      4000      \n",
            "_________________________________________________________________\n",
            "module_wrapper_9 (ModuleWrap (None, 100, 1, 1000)      0         \n",
            "_________________________________________________________________\n",
            "module_wrapper_10 (ModuleWra (None, 100, 1, 200)       200200    \n",
            "_________________________________________________________________\n",
            "module_wrapper_11 (ModuleWra (None, 100, 1, 200)       800       \n",
            "_________________________________________________________________\n",
            "module_wrapper_12 (ModuleWra (None, 100, 1, 200)       0         \n",
            "_________________________________________________________________\n",
            "module_wrapper_13 (ModuleWra (None, 100, 1, 88)        17688     \n",
            "=================================================================\n",
            "Total params: 426,504\n",
            "Trainable params: 423,976\n",
            "Non-trainable params: 2,528\n",
            "_________________________________________________________________\n"
          ],
          "name": "stdout"
        }
      ]
    },
    {
      "cell_type": "code",
      "metadata": {
        "id": "073WSrX1Hjeb"
      },
      "source": [
        "score = model.evaluate(X_test, y_test, verbose=0)\n",
        "print(score)\n",
        "print('Test loss:', score[0])\n",
        "print('Test accuracy:', score[1])"
      ],
      "execution_count": null,
      "outputs": []
    },
    {
      "cell_type": "code",
      "metadata": {
        "id": "rxhB1jTTJiWS"
      },
      "source": [
        "y_true=y_validation\n",
        "y_scores=model.predict(X_validation)"
      ],
      "execution_count": null,
      "outputs": []
    },
    {
      "cell_type": "code",
      "metadata": {
        "id": "VJRwmCAU6uEd"
      },
      "source": [
        "def opt_thresholds(y_true,y_scores):\n",
        "    othresholds = np.zeros(y_scores.shape[1])\n",
        "    print(othresholds.shape)\n",
        "    for label, (label_scores, true_bin) in enumerate(zip(y_scores.T,y_true.T)):\n",
        "        precision, recall, thresholds = sklearn.metrics.precision_recall_curve(true_bin, label_scores)\n",
        "        max_f1 = 0\n",
        "        max_f1_threshold = .5\n",
        "        for r, p, t in zip(recall, precision, thresholds):\n",
        "            if p + r == 0: continue\n",
        "            if (2*p*r)/(p + r) > max_f1:\n",
        "                max_f1 = (2*p*r)/(p + r)\n",
        "                max_f1_threshold = t\n",
        "        # print(\"label %f: max_f1_threshold %f => max_f1 %f\" %(label, max_f1_threshold, max_f1))\n",
        "        othresholds[label] = max_f1_threshold\n",
        "    return othresholds"
      ],
      "execution_count": null,
      "outputs": []
    },
    {
      "cell_type": "code",
      "metadata": {
        "id": "g6diYAJccHwE",
        "colab": {
          "base_uri": "https://localhost:8080/"
        },
        "outputId": "24c29c62-e4aa-441b-a2a9-75f010f2616c"
      },
      "source": [
        "x, y_true=X_validation, y_validation\n",
        "y_scores=model.predict(x)\n",
        "y_scores=np.reshape(y_scores, (980000, 88))\n",
        "y_validation=np.reshape(y_validation, (980000, 88))\n",
        "thresholds = opt_thresholds(y_true,y_scores)\n",
        "\n",
        "#evaludate this over validation data\n",
        "y_pred = y_scores > thresholds\n",
        "#precision, recall, fbetascore, support =>p, r, f, s\n",
        "p,r,f,s = sklearn.metrics.precision_recall_fscore_support(y_true,y_pred,average='micro')\n",
        "print(\"%f %f %f\" %(p, r, f))"
      ],
      "execution_count": null,
      "outputs": [
        {
          "output_type": "stream",
          "text": [
            "(88,)\n"
          ],
          "name": "stdout"
        },
        {
          "output_type": "stream",
          "text": [
            "/usr/local/lib/python3.7/dist-packages/sklearn/metrics/_ranking.py:677: RuntimeWarning: invalid value encountered in true_divide\n",
            "  recall = tps / tps[-1]\n"
          ],
          "name": "stderr"
        },
        {
          "output_type": "stream",
          "text": [
            "0.081061 0.678433 0.144819\n"
          ],
          "name": "stdout"
        }
      ]
    },
    {
      "cell_type": "code",
      "metadata": {
        "id": "1ofxaaditU58"
      },
      "source": [
        "y_scores_test=model.predict(X_test)\n",
        "y_pred_test=y_scores_test > thresholds"
      ],
      "execution_count": null,
      "outputs": []
    },
    {
      "cell_type": "code",
      "metadata": {
        "id": "b0W-RjH6cQJh",
        "colab": {
          "base_uri": "https://localhost:8080/"
        },
        "outputId": "3de90ee2-98eb-42c3-cd23-7976f400c83f"
      },
      "source": [
        "print(y_pred_test.shape)"
      ],
      "execution_count": null,
      "outputs": [
        {
          "output_type": "stream",
          "text": [
            "(10351, 100, 1, 88)\n"
          ],
          "name": "stdout"
        }
      ]
    },
    {
      "cell_type": "code",
      "metadata": {
        "id": "hFwO_VKIBY3-"
      },
      "source": [
        "print(thresholds.shape)"
      ],
      "execution_count": null,
      "outputs": []
    },
    {
      "cell_type": "code",
      "metadata": {
        "id": "g8J52hGGc_Jo",
        "colab": {
          "base_uri": "https://localhost:8080/"
        },
        "outputId": "c36561f2-1d75-4fe9-a137-85a4f88695f6"
      },
      "source": [
        "y_pred_test=np.squeeze(y_pred_test, axis=-2)\n",
        "print(y_pred_test.shape)"
      ],
      "execution_count": null,
      "outputs": [
        {
          "output_type": "stream",
          "text": [
            "(10351, 100, 88)\n"
          ],
          "name": "stdout"
        }
      ]
    },
    {
      "cell_type": "code",
      "metadata": {
        "id": "yW2i63GxoYdy"
      },
      "source": [
        "#saving the y_pred_test for further post processing and generating piano roll\n",
        "save('final2.npy', y_pred_test)"
      ],
      "execution_count": null,
      "outputs": []
    }
  ]
}