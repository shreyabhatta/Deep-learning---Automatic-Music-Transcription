{
  "nbformat": 4,
  "nbformat_minor": 0,
  "metadata": {
    "colab": {
      "name": "CQT_CNN_PreprocessingCode.ipynb",
      "provenance": [],
      "collapsed_sections": []
    },
    "kernelspec": {
      "name": "python3",
      "display_name": "Python 3"
    },
    "language_info": {
      "name": "python"
    }
  },
  "cells": [
    {
      "cell_type": "code",
      "metadata": {
        "id": "lMV49YYKJP4W",
        "colab": {
          "base_uri": "https://localhost:8080/"
        },
        "outputId": "a0d77f53-e9ea-4ebc-c630-e3619b42a11e"
      },
      "source": [
        "import glob\n",
        "import os\n",
        "import librosa\n",
        "import numpy as np\n",
        "!pip install pretty_midi\n",
        "import pretty_midi"
      ],
      "execution_count": 1,
      "outputs": [
        {
          "output_type": "stream",
          "text": [
            "Collecting pretty_midi\n",
            "  Downloading pretty_midi-0.2.9.tar.gz (5.6 MB)\n",
            "\u001b[K     |████████████████████████████████| 5.6 MB 20.2 MB/s \n",
            "\u001b[?25hRequirement already satisfied: numpy>=1.7.0 in /usr/local/lib/python3.7/dist-packages (from pretty_midi) (1.19.5)\n",
            "Collecting mido>=1.1.16\n",
            "  Downloading mido-1.2.10-py2.py3-none-any.whl (51 kB)\n",
            "\u001b[K     |████████████████████████████████| 51 kB 7.4 MB/s \n",
            "\u001b[?25hRequirement already satisfied: six in /usr/local/lib/python3.7/dist-packages (from pretty_midi) (1.15.0)\n",
            "Building wheels for collected packages: pretty-midi\n",
            "  Building wheel for pretty-midi (setup.py) ... \u001b[?25l\u001b[?25hdone\n",
            "  Created wheel for pretty-midi: filename=pretty_midi-0.2.9-py3-none-any.whl size=5591955 sha256=ae23c6bb1b3a6ee979c8a4b81e3842076c36e008de05d476b89fe8168deb6272\n",
            "  Stored in directory: /root/.cache/pip/wheels/ad/74/7c/a06473ca8dcb63efb98c1e67667ce39d52100f837835ea18fa\n",
            "Successfully built pretty-midi\n",
            "Installing collected packages: mido, pretty-midi\n",
            "Successfully installed mido-1.2.10 pretty-midi-0.2.9\n"
          ],
          "name": "stdout"
        }
      ]
    },
    {
      "cell_type": "code",
      "metadata": {
        "id": "7S3iwqnIPlqF",
        "colab": {
          "base_uri": "https://localhost:8080/"
        },
        "outputId": "941ffb87-5b5c-4b32-cdb6-57d7a7284056"
      },
      "source": [
        "from google.colab import drive\n",
        "drive.mount('/content/drive', force_remount=True) "
      ],
      "execution_count": 2,
      "outputs": [
        {
          "output_type": "stream",
          "text": [
            "Mounted at /content/drive\n"
          ],
          "name": "stdout"
        }
      ]
    },
    {
      "cell_type": "markdown",
      "metadata": {
        "id": "UfyfIelgQXWP"
      },
      "source": [
        "**Please update the start path and destination path**"
      ]
    },
    {
      "cell_type": "code",
      "metadata": {
        "id": "n4CfI2XnQTyp"
      },
      "source": [
        "start ='/content/drive/MyDrive/MUS' # Divide all 9 directories of the MAPS Dataset into train/test/val and provide its path (format eg. test/.wav)\n",
        "dest = '/content/drive/MyDrive/cqt' # Destination Path for storing the .npy files"
      ],
      "execution_count": 4,
      "outputs": []
    },
    {
      "cell_type": "code",
      "metadata": {
        "id": "qh_QyIq-PoTO"
      },
      "source": [
        "RangeMIDInotes=[21,108]\n",
        "sr=16000.\n",
        "bins_per_octave=36\n",
        "n_octave=7\n",
        "val_rate=1./7\n",
        "pretty_midi.pretty_midi.MAX_TICK = 1e10\n",
        "n_bins= n_octave * bins_per_octave\n",
        "hop_length = 512\n",
        "win_width = 94\n",
        "kernel_size=7\n",
        "overlap=True"
      ],
      "execution_count": 3,
      "outputs": []
    },
    {
      "cell_type": "code",
      "metadata": {
        "id": "X19IOocEQwKg"
      },
      "source": [
        "def midi2mat(midi_path_train, length, cqt_len, sr, RangeMIDInotes=RangeMIDInotes):\n",
        "    midi_data = pretty_midi.PrettyMIDI(midi_path_train)\n",
        "    pianoRoll = midi_data.instruments[0].get_piano_roll(fs=cqt_len * sr/length)\n",
        "    Ground_truth_mat = (pianoRoll[RangeMIDInotes[0]:RangeMIDInotes[1] + 1, :cqt_len] > 0)\n",
        "    return Ground_truth_mat"
      ],
      "execution_count": 5,
      "outputs": []
    },
    {
      "cell_type": "code",
      "metadata": {
        "id": "vZCL6-i8QxTh",
        "colab": {
          "base_uri": "https://localhost:8080/"
        },
        "outputId": "fb6fced0-c6a6-4b96-be75-4ff30e399eaa"
      },
      "source": [
        "fil = [direc for direc in os.listdir(start)]\n",
        "for direc in fil:\n",
        "    j=0\n",
        "    k=0\n",
        "    startpath= os.path.join(start,direc)\n",
        "    destpath = os.path.join(dest,direc)\n",
        "    if not os.path.exists(destpath):\n",
        "        os.makedirs(destpath)\n",
        "    print(direc)\n",
        "    files = [f for f in os.listdir(startpath)]\n",
        "    for f in files:\n",
        "        fpath=startpath\n",
        "        f1=f\n",
        "        if 1:\n",
        "            ffile=os.path.join(fpath,f1)\n",
        "            file_name,file_extensions=os.path.splitext(f1)\n",
        "            if file_extensions == '.txt':\n",
        "                continue\n",
        "            if file_extensions==\".mid\":\n",
        "                ffile=os.path.join(fpath,file_name+'.wav')\n",
        "            x,sr = librosa.load(ffile,sr=sr)\n",
        "\n",
        "            # perform stft to obtain 2D array of complex values(frequencies)\n",
        "            cqt_file = librosa.cqt(x,sr=sr,fmin=librosa.note_to_hz('A0'),hop_length = hop_length,n_bins=n_bins,bins_per_octave=bins_per_octave,scale=False)\n",
        "            # taking their absolute values\n",
        "            cqt_abs = np.abs(cqt_file) \n",
        "            # converting the frequency data on a logarthmic scale for better visualisation\n",
        "            cqt = np.transpose(librosa.amplitude_to_db(cqt_abs))\n",
        "\n",
        "            midi_file = os.path.join(fpath,f1)\n",
        "\n",
        "            if file_extensions==\".wav\":\n",
        "                midi_file = os.path.join(fpath,file_name+'.mid')\n",
        "\n",
        "            Ground_truth_mat=midi2mat(midi_file, len(x), cqt.shape[0], sr, RangeMIDInotes=RangeMIDInotes)\n",
        "            midi_train = np.transpose(Ground_truth_mat)\n",
        "            \n",
        "            #midi length<stft length, cut stft\n",
        "            if midi_train.shape[0]<cqt.shape[0]:\n",
        "                cqt=cqt[:midi_train.shape[0],:]\n",
        "        \n",
        "            if file_extensions == \".wav\" :\n",
        "                ofolder = 'wav'\n",
        "                subname = 'CQT'\n",
        "                no=j\n",
        "            elif file_extensions == \".mid\" :\n",
        "                ofolder = 'mid'\n",
        "                subname = 'label'\n",
        "                no=k\n",
        "\n",
        "            opath = os.path.join(destpath,f,ofolder,file_name)+subname+'.npy'\n",
        "            temp_path = os.path.join(destpath,f,ofolder)\n",
        "\n",
        "            if not os.path.exists(temp_path):\n",
        "                os.makedirs(temp_path)\n",
        "\n",
        "            if file_extensions == \".wav\":\n",
        "                np.save(opath,cqt)\n",
        "            elif file_extensions == \".mid\":\n",
        "                np.save(opath,midi_train)\n",
        "\n",
        "            # print('Preprocessed ',f1)   \n",
        "\n",
        "            # cut the tensor along the first axis by the win_width with a single frame hop\n",
        "            matrix = np.array(np.load(opath))\n",
        "            l=matrix.shape[0]\n",
        "            cut_matrix=[]\n",
        "            nb_win=int(l/win_width)   #integer division=floor\n",
        "\n",
        "            if not overlap:\n",
        "                for i in range(nb_win):\n",
        "                    cut_matrix.append(matrix[i*win_width:(i+1)*win_width,:])\n",
        "            else:\n",
        "                w=matrix.shape[1]\n",
        "                matrix_1=np.concatenate([np.zeros([int(kernel_size/2),w]),matrix,np.zeros([int(kernel_size/2),w])],axis=0)  #padding\n",
        "                cut_matrix = []\n",
        "                for i in range(nb_win):\n",
        "                    cut_matrix.append(matrix_1[i * win_width:(i + 1) * win_width+kernel_size-1,:])\n",
        "\n",
        "            cut_matrix = np.asarray(cut_matrix)\n",
        "            os.remove(opath)\n",
        "            # print(\"Removed \",f1)            \n",
        "            if file_extensions == \".wav\":\n",
        "                if j == 0:\n",
        "                    X = cut_matrix\n",
        "                    #print(cut_matrix.shape)\n",
        "                else:\n",
        "                    X = np.concatenate((X,cut_matrix),axis=0)\n",
        "                    #print(cut_matrix.shape)\n",
        "                j=j+1\n",
        "                \n",
        "            elif file_extensions == \".mid\":\n",
        "                if k == 0:\n",
        "                    Y = cut_matrix\n",
        "                    #print(cut_matrix.shape)\n",
        "                else:\n",
        "                    Y = np.concatenate((Y,cut_matrix),axis=0)\n",
        "                    #print(cut_matrix.shape)\n",
        "                k=k+1\n",
        "            print('Joined ',f1,\"no \",no)\n",
        "            # print('--------------')\n",
        "            os.rmdir(temp_path)\n",
        "        os.rmdir(os.path.join(destpath,f))\n",
        "    X = np.expand_dims(X,axis=-2)\n",
        "    Y = np.expand_dims(Y,axis=-2) \n",
        "    opath1= os.path.join(destpath,\"X_final_CQT_\")+direc+'.npy'\n",
        "    opath2= os.path.join(destpath,\"Y_final_CQT_\")+direc+'.npy' \n",
        "    np.save(opath1,X)\n",
        "    np.save(opath2,Y)\n",
        "    # print('Saved X_train final')     \n",
        "    # print('Saved Y_train final')\n",
        "    # print('X_train_Shape -',X.shape)     \n",
        "    # print('Y_train_Shape -',Y.shape)"
      ],
      "execution_count": 9,
      "outputs": [
        {
          "output_type": "stream",
          "text": [
            "test_source\n",
            "Joined  MAPS_MUS-alb_se2_ENSTDkCl.mid no  0\n",
            "Joined  MAPS_MUS-alb_se2_ENSTDkCl.wav no  0\n",
            "Joined  MAPS_MUS-bk_xmas1_ENSTDkCl.mid no  1\n",
            "Joined  MAPS_MUS-bk_xmas1_ENSTDkCl.wav no  1\n",
            "Joined  MAPS_MUS-bk_xmas4_ENSTDkCl.mid no  2\n",
            "Joined  MAPS_MUS-bk_xmas4_ENSTDkCl.wav no  2\n",
            "Joined  MAPS_MUS-bk_xmas5_ENSTDkCl.mid no  3\n",
            "Joined  MAPS_MUS-bk_xmas5_ENSTDkCl.wav no  3\n",
            "Joined  MAPS_MUS-bor_ps6_ENSTDkCl.mid no  4\n",
            "Joined  MAPS_MUS-bor_ps6_ENSTDkCl.wav no  4\n",
            "Joined  MAPS_MUS-chpn-e01_ENSTDkCl.mid no  5\n",
            "Joined  MAPS_MUS-chpn-e01_ENSTDkCl.wav no  5\n",
            "Joined  MAPS_MUS-chpn-p19_ENSTDkCl.mid no  6\n",
            "Joined  MAPS_MUS-chpn-p19_ENSTDkCl.wav no  6\n",
            "Joined  MAPS_MUS-deb_clai_ENSTDkCl.mid no  7\n",
            "Joined  MAPS_MUS-deb_clai_ENSTDkCl.wav no  7\n",
            "Joined  MAPS_MUS-deb_menu_ENSTDkCl.mid no  8\n",
            "Joined  MAPS_MUS-deb_menu_ENSTDkCl.wav no  8\n",
            "Joined  MAPS_MUS-grieg_butterfly_ENSTDkCl.mid no  9\n",
            "Joined  MAPS_MUS-grieg_butterfly_ENSTDkCl.wav no  9\n",
            "Joined  MAPS_MUS-liz_et6_ENSTDkCl.mid no  10\n",
            "Joined  MAPS_MUS-liz_et6_ENSTDkCl.wav no  10\n",
            "Joined  MAPS_MUS-liz_et_trans5_ENSTDkCl.mid no  11\n",
            "Joined  MAPS_MUS-liz_et_trans5_ENSTDkCl.wav no  11\n",
            "Joined  MAPS_MUS-liz_rhap09_ENSTDkCl.mid no  12\n",
            "Joined  MAPS_MUS-liz_rhap09_ENSTDkCl.wav no  12\n",
            "Joined  MAPS_MUS-mz_311_1_ENSTDkCl.mid no  13\n",
            "Joined  MAPS_MUS-mz_311_1_ENSTDkCl.wav no  13\n",
            "Joined  MAPS_MUS-mz_331_2_ENSTDkCl.mid no  14\n",
            "Joined  MAPS_MUS-mz_331_2_ENSTDkCl.wav no  14\n",
            "Joined  MAPS_MUS-mz_331_3_ENSTDkCl.mid no  15\n",
            "Joined  MAPS_MUS-mz_331_3_ENSTDkCl.wav no  15\n",
            "Joined  MAPS_MUS-mz_332_2_ENSTDkCl.mid no  16\n",
            "Joined  MAPS_MUS-mz_332_2_ENSTDkCl.wav no  16\n",
            "Joined  MAPS_MUS-mz_333_2_ENSTDkCl.mid no  17\n",
            "Joined  MAPS_MUS-mz_333_2_ENSTDkCl.wav no  17\n",
            "Joined  MAPS_MUS-mz_333_3_ENSTDkCl.mid no  18\n",
            "Joined  MAPS_MUS-mz_333_3_ENSTDkCl.wav no  18\n",
            "Joined  MAPS_MUS-mz_545_3_ENSTDkCl.mid no  19\n",
            "Joined  MAPS_MUS-mz_545_3_ENSTDkCl.wav no  19\n",
            "Joined  MAPS_MUS-mz_570_1_ENSTDkCl.mid no  20\n",
            "Joined  MAPS_MUS-mz_570_1_ENSTDkCl.wav no  20\n",
            "Joined  MAPS_MUS-pathetique_1_ENSTDkCl.mid no  21\n",
            "Joined  MAPS_MUS-pathetique_1_ENSTDkCl.wav no  21\n",
            "Joined  MAPS_MUS-schu_143_3_ENSTDkCl.mid no  22\n",
            "Joined  MAPS_MUS-schu_143_3_ENSTDkCl.wav no  22\n",
            "Joined  MAPS_MUS-schuim-1_ENSTDkCl.mid no  23\n",
            "Joined  MAPS_MUS-schuim-1_ENSTDkCl.wav no  23\n",
            "Joined  MAPS_MUS-scn15_11_ENSTDkCl.mid no  24\n",
            "Joined  MAPS_MUS-scn15_11_ENSTDkCl.wav no  24\n",
            "Joined  MAPS_MUS-scn15_12_ENSTDkCl.mid no  25\n",
            "Joined  MAPS_MUS-scn15_12_ENSTDkCl.wav no  25\n",
            "Joined  MAPS_MUS-scn16_3_ENSTDkCl.mid no  26\n",
            "Joined  MAPS_MUS-scn16_3_ENSTDkCl.wav no  26\n",
            "Joined  MAPS_MUS-scn16_4_ENSTDkCl.mid no  27\n",
            "Joined  MAPS_MUS-scn16_4_ENSTDkCl.wav no  27\n",
            "Joined  MAPS_MUS-ty_maerz_ENSTDkCl.mid no  28\n",
            "Joined  MAPS_MUS-ty_maerz_ENSTDkCl.wav no  28\n",
            "Joined  MAPS_MUS-ty_mai_ENSTDkCl.mid no  29\n",
            "Joined  MAPS_MUS-ty_mai_ENSTDkCl.wav no  29\n",
            "Joined  MAPS_MUS-bk_xmas1_ENSTDkAm.mid no  30\n",
            "Joined  MAPS_MUS-bk_xmas1_ENSTDkAm.wav no  30\n",
            "Joined  MAPS_MUS-chpn-p14_ENSTDkAm.mid no  31\n",
            "Joined  MAPS_MUS-chpn-p14_ENSTDkAm.wav no  31\n",
            "Joined  MAPS_MUS-chpn-p15_ENSTDkAm.mid no  32\n",
            "Joined  MAPS_MUS-chpn-p4_ENSTDkAm.mid no  33\n",
            "Joined  MAPS_MUS-chpn-p15_ENSTDkAm.wav no  32\n",
            "Joined  MAPS_MUS-chpn-p4_ENSTDkAm.wav no  33\n",
            "Joined  MAPS_MUS-chpn_op25_e3_ENSTDkAm.mid no  34\n",
            "Joined  MAPS_MUS-chpn_op25_e3_ENSTDkAm.wav no  34\n",
            "Joined  MAPS_MUS-chpn_op25_e4_ENSTDkAm.mid no  35\n",
            "Joined  MAPS_MUS-chpn_op25_e4_ENSTDkAm.wav no  35\n",
            "Joined  MAPS_MUS-chpn_op33_2_ENSTDkAm.mid no  36\n",
            "Joined  MAPS_MUS-chpn_op33_2_ENSTDkAm.wav no  36\n",
            "Joined  MAPS_MUS-chpn_op35_1_ENSTDkAm.mid no  37\n",
            "Joined  MAPS_MUS-chpn_op35_1_ENSTDkAm.wav no  37\n",
            "Joined  MAPS_MUS-chpn_op66_ENSTDkAm.mid no  38\n",
            "Joined  MAPS_MUS-chpn_op66_ENSTDkAm.wav no  38\n",
            "Joined  MAPS_MUS-chpn_op7_1_ENSTDkAm.mid no  39\n",
            "Joined  MAPS_MUS-chpn_op7_1_ENSTDkAm.wav no  39\n",
            "Joined  MAPS_MUS-grieg_butterfly_ENSTDkAm.mid no  40\n",
            "Joined  MAPS_MUS-grieg_butterfly_ENSTDkAm.wav no  40\n",
            "Joined  MAPS_MUS-grieg_kobold_ENSTDkAm.mid no  41\n",
            "Joined  MAPS_MUS-grieg_kobold_ENSTDkAm.wav no  41\n",
            "Joined  MAPS_MUS-liz_rhap02_ENSTDkAm.mid no  42\n",
            "Joined  MAPS_MUS-liz_rhap02_ENSTDkAm.wav no  42\n",
            "Joined  MAPS_MUS-liz_rhap09_ENSTDkAm.mid no  43\n",
            "Joined  MAPS_MUS-liz_rhap09_ENSTDkAm.wav no  43\n",
            "Joined  MAPS_MUS-liz_rhap12_ENSTDkAm.mid no  44\n",
            "Joined  MAPS_MUS-mendel_op62_5_ENSTDkAm.mid no  45\n",
            "Joined  MAPS_MUS-liz_rhap12_ENSTDkAm.wav no  44\n",
            "Joined  MAPS_MUS-mendel_op62_5_ENSTDkAm.wav no  45\n",
            "Joined  MAPS_MUS-muss_1_ENSTDkAm.mid no  46\n",
            "Joined  MAPS_MUS-muss_1_ENSTDkAm.wav no  46\n",
            "Joined  MAPS_MUS-pathetique_2_ENSTDkAm.mid no  47\n",
            "Joined  MAPS_MUS-pathetique_2_ENSTDkAm.wav no  47\n",
            "Joined  MAPS_MUS-pathetique_3_ENSTDkAm.mid no  48\n",
            "Joined  MAPS_MUS-pathetique_3_ENSTDkAm.wav no  48\n",
            "Joined  MAPS_MUS-schu_143_1_ENSTDkAm.mid no  49\n",
            "Joined  MAPS_MUS-schu_143_1_ENSTDkAm.wav no  49\n",
            "Joined  MAPS_MUS-schub_d760_3_ENSTDkAm.mid no  50\n",
            "Joined  MAPS_MUS-schub_d760_3_ENSTDkAm.wav no  50\n",
            "Joined  MAPS_MUS-schumm-1_ENSTDkAm.mid no  51\n",
            "Joined  MAPS_MUS-schumm-1_ENSTDkAm.wav no  51\n",
            "Joined  MAPS_MUS-scn15_11_ENSTDkAm.mid no  52\n",
            "Joined  MAPS_MUS-scn15_6_ENSTDkAm.mid no  53\n",
            "Joined  MAPS_MUS-scn15_11_ENSTDkAm.wav no  52\n",
            "Joined  MAPS_MUS-scn15_9_ENSTDkAm.mid no  54\n",
            "Joined  MAPS_MUS-scn15_6_ENSTDkAm.wav no  53\n",
            "Joined  MAPS_MUS-scn15_9_ENSTDkAm.wav no  54\n",
            "Joined  MAPS_MUS-scn16_4_ENSTDkAm.mid no  55\n",
            "Joined  MAPS_MUS-scn16_4_ENSTDkAm.wav no  55\n",
            "Joined  MAPS_MUS-ty_maerz_ENSTDkAm.mid no  56\n",
            "Joined  MAPS_MUS-ty_maerz_ENSTDkAm.wav no  56\n",
            "Joined  MAPS_MUS-ty_mai_ENSTDkAm.mid no  57\n",
            "Joined  MAPS_MUS-ty_mai_ENSTDkAm.wav no  57\n",
            "Joined  MAPS_MUS-ty_november_ENSTDkAm.mid no  58\n",
            "Joined  MAPS_MUS-ty_november_ENSTDkAm.wav no  58\n",
            "Joined  MAPS_MUS-waldstein_1_ENSTDkAm.mid no  59\n",
            "Joined  MAPS_MUS-waldstein_1_ENSTDkAm.wav no  59\n"
          ],
          "name": "stdout"
        }
      ]
    }
  ]
}
