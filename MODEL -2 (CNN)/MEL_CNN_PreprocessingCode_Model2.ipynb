{
  "nbformat": 4,
  "nbformat_minor": 0,
  "metadata": {
    "colab": {
      "name": "Copy of MEL_CNN_PreprocessingCode.ipynb",
      "provenance": [],
      "collapsed_sections": []
    },
    "kernelspec": {
      "name": "python3",
      "display_name": "Python 3"
    },
    "language_info": {
      "name": "python"
    }
  },
  "cells": [
    {
      "cell_type": "code",
      "metadata": {
        "id": "FWbqi0Quujrn",
        "colab": {
          "base_uri": "https://localhost:8080/"
        },
        "outputId": "143e52c2-8989-4ab0-cee1-1cd0fd2fc308"
      },
      "source": [
        "import glob\n",
        "import os\n",
        "import librosa\n",
        "import numpy as np\n",
        "!pip install pretty_midi\n",
        "import pretty_midi"
      ],
      "execution_count": 5,
      "outputs": [
        {
          "output_type": "stream",
          "text": [
            "Collecting pretty_midi\n",
            "  Downloading pretty_midi-0.2.9.tar.gz (5.6 MB)\n",
            "\u001b[K     |████████████████████████████████| 5.6 MB 4.4 MB/s \n",
            "\u001b[?25hRequirement already satisfied: numpy>=1.7.0 in /usr/local/lib/python3.7/dist-packages (from pretty_midi) (1.19.5)\n",
            "Collecting mido>=1.1.16\n",
            "  Downloading mido-1.2.10-py2.py3-none-any.whl (51 kB)\n",
            "\u001b[K     |████████████████████████████████| 51 kB 5.5 MB/s \n",
            "\u001b[?25hRequirement already satisfied: six in /usr/local/lib/python3.7/dist-packages (from pretty_midi) (1.15.0)\n",
            "Building wheels for collected packages: pretty-midi\n",
            "  Building wheel for pretty-midi (setup.py) ... \u001b[?25l\u001b[?25hdone\n",
            "  Created wheel for pretty-midi: filename=pretty_midi-0.2.9-py3-none-any.whl size=5591955 sha256=77c61372c732ae21981c9de5eeb7c4ce39a58d38fd5300523c8d717d9a8e7428\n",
            "  Stored in directory: /root/.cache/pip/wheels/ad/74/7c/a06473ca8dcb63efb98c1e67667ce39d52100f837835ea18fa\n",
            "Successfully built pretty-midi\n",
            "Installing collected packages: mido, pretty-midi\n",
            "Successfully installed mido-1.2.10 pretty-midi-0.2.9\n"
          ],
          "name": "stdout"
        }
      ]
    },
    {
      "cell_type": "code",
      "metadata": {
        "id": "LWcVnJR1uogZ",
        "colab": {
          "base_uri": "https://localhost:8080/"
        },
        "outputId": "916772cc-3542-4f23-be88-05c6b201d396"
      },
      "source": [
        "from google.colab import drive\n",
        "drive.mount('/content/drive', force_remount=True) "
      ],
      "execution_count": 2,
      "outputs": [
        {
          "output_type": "stream",
          "text": [
            "Mounted at /content/drive\n"
          ],
          "name": "stdout"
        }
      ]
    },
    {
      "cell_type": "markdown",
      "metadata": {
        "id": "0vfbWiK_vFbG"
      },
      "source": [
        "**Please update the start path and destination path**"
      ]
    },
    {
      "cell_type": "code",
      "metadata": {
        "id": "jtYB_BbXuvdV"
      },
      "source": [
        "start ='/content/drive/MyDrive/MUS' # Divide all 9 directories of the MAPS Dataset into train/test/val and provide its path (format eg. test/(ENS..)/MUS/)\n",
        "dest = '/content/drive/MyDrive/finale' # Destination Path for storing the .npy files"
      ],
      "execution_count": 3,
      "outputs": []
    },
    {
      "cell_type": "code",
      "metadata": {
        "id": "i7SJ6kSvu5dd"
      },
      "source": [
        "RangeMIDInotes=[21,108]\n",
        "n_fft = 2048\n",
        "sr=16000.\n",
        "n_mels = 252\n",
        "bins_per_octave=36\n",
        "n_octave=7\n",
        "val_rate=1./7\n",
        "pretty_midi.pretty_midi.MAX_TICK = 1e10\n",
        "n_bins= n_octave * bins_per_octave\n",
        "hop_length = 512\n",
        "win_width = 32\n",
        "kernel_size=7\n",
        "overlap=True"
      ],
      "execution_count": 6,
      "outputs": []
    },
    {
      "cell_type": "code",
      "metadata": {
        "id": "-0FBIxyOu8kU"
      },
      "source": [
        "def midi2mat(midi_path_train, length, mel_len, sr, RangeMIDInotes=RangeMIDInotes):\n",
        "    midi_data = pretty_midi.PrettyMIDI(midi_path_train)\n",
        "    pianoRoll = midi_data.instruments[0].get_piano_roll(fs=mel_len * sr/length)\n",
        "    Ground_truth_mat = (pianoRoll[RangeMIDInotes[0]:RangeMIDInotes[1] + 1, :mel_len] > 0)\n",
        "    return Ground_truth_mat"
      ],
      "execution_count": 7,
      "outputs": []
    },
    {
      "cell_type": "code",
      "metadata": {
        "id": "HARM4s-Mu9-U"
      },
      "source": [
        "fil = [direc for direc in os.listdir(start)]\n",
        "for direc in fil:\n",
        "    j=0\n",
        "    k=0\n",
        "    startpath= os.path.join(start,direc)\n",
        "    destpath = os.path.join(dest,direc)\n",
        "    if not os.path.exists(destpath):\n",
        "        os.makedirs(destpath)\n",
        "    print(direc)\n",
        "    files = [f for f in os.listdir(startpath)]\n",
        "    for f in files:\n",
        "        fpath=startpath\n",
        "        f1=f\n",
        "        # # print(fpath)\n",
        "        # subfiles = [f1 for f1 in os.listdir(fpath)]    \n",
        "        if 1:\n",
        "            ffile=os.path.join(fpath,f1)\n",
        "            file_name,file_extensions=os.path.splitext(f1)\n",
        "            if file_extensions == '.txt':\n",
        "                continue\n",
        "            if file_extensions==\".mid\":\n",
        "                ffile=os.path.join(fpath,file_name+'.wav')\n",
        "            x,sr = librosa.load(ffile,sr=sr)\n",
        "            \n",
        "            mel_spectrogram = librosa.feature.melspectrogram(x, sr=sr, n_fft=n_fft, hop_length=hop_length, n_mels=n_mels)\n",
        "            mel = np.transpose(np.abs(mel_spectrogram))\n",
        "            mel = np.transpose(librosa.power_to_db(np.abs(mel_spectrogram)))\n",
        "\n",
        "            midi_file = os.path.join(fpath,f1)\n",
        "\n",
        "            if file_extensions==\".wav\":\n",
        "                midi_file = os.path.join(fpath,file_name+'.mid')\n",
        "\n",
        "            Ground_truth_mat=midi2mat(midi_file, len(x), mel.shape[0], sr, RangeMIDInotes=RangeMIDInotes)\n",
        "            midi_train = np.transpose(Ground_truth_mat)\n",
        "            \n",
        "            #midi length < MEL length, cut MEL\n",
        "            if midi_train.shape[0]<mel.shape[0]:\n",
        "                mel=mel[:midi_train.shape[0],:]\n",
        "        \n",
        "            if file_extensions == \".wav\" :\n",
        "                ofolder = 'wav'\n",
        "                subname = 'MEL'\n",
        "                no=j\n",
        "            elif file_extensions == \".mid\" :\n",
        "                ofolder = 'mid'\n",
        "                subname = 'label'\n",
        "                no=k\n",
        "\n",
        "            opath = os.path.join(destpath,f,ofolder,file_name)+subname+'.npy'\n",
        "            temp_path = os.path.join(destpath,f,ofolder)\n",
        "\n",
        "            if not os.path.exists(temp_path):\n",
        "                os.makedirs(temp_path)\n",
        "\n",
        "            if file_extensions == \".wav\":\n",
        "                np.save(opath,mel)\n",
        "            elif file_extensions == \".mid\":\n",
        "                np.save(opath,midi_train)\n",
        "\n",
        "            #print('Preprocessed',f1,\"no\",no)   \n",
        "            \n",
        "            matrix = np.array(np.load(opath))\n",
        "            l=matrix.shape[0]\n",
        "            cut_matrix=[]\n",
        "            nb_win=int(l/win_width)   #integer division=floor\n",
        "\n",
        "            if not overlap:\n",
        "                for i in range(nb_win):\n",
        "                    cut_matrix.append(matrix[i*win_width:(i+1)*win_width,:])\n",
        "            else:\n",
        "                w=matrix.shape[1]\n",
        "                matrix_1=np.concatenate([np.zeros([int(kernel_size/2),w]),matrix,np.zeros([int(kernel_size/2),w])],axis=0)  #padding\n",
        "                cut_matrix = []\n",
        "                for i in range(nb_win):\n",
        "                    cut_matrix.append(matrix_1[i * win_width:(i + 1) * win_width+kernel_size-1,:])    \n",
        "            cut_matrix = np.asarray(cut_matrix)\n",
        "            os.remove(opath)\n",
        "            #print(\"Removed\",f1,\"no:\",no)\n",
        "\n",
        "            if file_extensions == \".wav\":\n",
        "                if j == 0:\n",
        "                    X = cut_matrix\n",
        "                    #print(cut_matrix.shape)\n",
        "                else:\n",
        "                    X = np.concatenate((X,cut_matrix),axis=0)\n",
        "                    #print(cut_matrix.shape)\n",
        "                j=j+1\n",
        "                \n",
        "            elif file_extensions == \".mid\":\n",
        "                if k == 0:\n",
        "                    Y = cut_matrix\n",
        "                    #print(cut_matrix.shape)\n",
        "                else:\n",
        "                    Y = np.concatenate((Y,cut_matrix),axis=0)\n",
        "                    #print(cut_matrix.shape)\n",
        "                k=k+1\n",
        "            print('Joined ',f1,\"no \",no)\n",
        "            #print('--------------')\n",
        "            os.rmdir(temp_path)\n",
        "        os.rmdir(os.path.join(destpath,f))\n",
        "\n",
        "    X = np.expand_dims(X,axis=-2)\n",
        "    Y = np.expand_dims(Y,axis=-2) \n",
        "\n",
        "    X_train = np.expand_dims(X_train,axis=-2)\n",
        "    Y_train = np.expand_dims(Y_train,axis=-2)\n",
        "\n",
        "    opath1= os.path.join(destpath,\"X_final_MEL_\")+direc+'.npy'\n",
        "    opath2= os.path.join(destpath,\"Y_final_MEL_\")+direc+'.npy' \n",
        "    np.save(opath1,X)\n",
        "    np.save(opath2,Y)\n",
        "    # print('Saved X_train final')     \n",
        "    # print('Saved Y_train final')\n",
        "    # print('X_train_Shape -',X.shape)     \n",
        "    # print('Y_train_Shape -',Y.shape)"
      ],
      "execution_count": null,
      "outputs": []
    }
  ]
}
