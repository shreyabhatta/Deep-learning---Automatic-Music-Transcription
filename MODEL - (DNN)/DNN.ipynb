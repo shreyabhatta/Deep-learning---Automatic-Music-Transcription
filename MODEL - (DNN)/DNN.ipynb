{
  "nbformat": 4,
  "nbformat_minor": 0,
  "metadata": {
    "colab": {
      "name": "DNN.ipynb",
      "provenance": []
    },
    "kernelspec": {
      "name": "python3",
      "display_name": "Python 3"
    },
    "language_info": {
      "name": "python"
    },
    "accelerator": "GPU"
  },
  "cells": [
    {
      "cell_type": "code",
      "metadata": {
        "id": "kKjw6oduV-1i"
      },
      "source": [
        "import tensorflow as tf\n",
        "import os\n",
        "import numpy as np\n",
        "import matplotlib.pyplot as plt"
      ],
      "execution_count": 2,
      "outputs": []
    },
    {
      "cell_type": "code",
      "metadata": {
        "colab": {
          "base_uri": "https://localhost:8080/"
        },
        "id": "MJMgB6TDWJrd",
        "outputId": "c54cfa26-9de2-4d9f-f8c5-ce7c4e21a31d"
      },
      "source": [
        "from google.colab import drive\n",
        "drive.mount('/content/drive')"
      ],
      "execution_count": 3,
      "outputs": [
        {
          "output_type": "stream",
          "text": [
            "Mounted at /content/drive\n"
          ],
          "name": "stdout"
        }
      ]
    },
    {
      "cell_type": "code",
      "metadata": {
        "id": "BOwvpCYIWzh-"
      },
      "source": [
        "X_train = np.load(\"/content/drive/MyDrive/Data/X_tr_concat.npy\")\n",
        "y_train = np.load(\"/content/drive/MyDrive/Data/y_tr_concat.npy\")\n",
        "\n",
        "\n",
        "X_val = np.load(\"/content/drive/MyDrive/Data/X_val_concat.npy\")\n",
        "y_val = np.load(\"/content/drive/MyDrive/Data/y_val_concat.npy\")"
      ],
      "execution_count": 17,
      "outputs": []
    },
    {
      "cell_type": "code",
      "metadata": {
        "colab": {
          "base_uri": "https://localhost:8080/"
        },
        "id": "iP8JIHlDAQj_",
        "outputId": "c1a4db1a-393c-4453-e806-5796ac35696a"
      },
      "source": [
        "a = np.array([[1,2],[3,4],[5,6],[7,8]])\n",
        "b = a[0:a.shape[0]//2, :]\n",
        "print(b)"
      ],
      "execution_count": 6,
      "outputs": [
        {
          "output_type": "stream",
          "text": [
            "[[1 2]\n",
            " [3 4]]\n"
          ],
          "name": "stdout"
        }
      ]
    },
    {
      "cell_type": "code",
      "metadata": {
        "id": "yjTVUVtT_XVr"
      },
      "source": [
        "X_valid = X_val[0:X_val.shape[0]//2,:]\n",
        "X_test = X_val[X_val.shape[0]//2:,:]\n",
        "\n",
        "y_valid = y_val[0:y_val.shape[0]//2,:]\n",
        "y_test = y_val[y_val.shape[0]//2:,:]\n"
      ],
      "execution_count": 18,
      "outputs": []
    },
    {
      "cell_type": "code",
      "metadata": {
        "colab": {
          "base_uri": "https://localhost:8080/"
        },
        "id": "OOqoRAZ3XP1s",
        "outputId": "b7c027de-a62c-4b31-a1d3-b5d3f7d6f9d9"
      },
      "source": [
        "print(X_train.shape, y_train.shape, X_valid.shape, y_valid.shape, X_test.shape, y_test.shape)"
      ],
      "execution_count": 19,
      "outputs": [
        {
          "output_type": "stream",
          "text": [
            "(1585000, 252) (1585000, 88) (251700, 252) (251700, 88) (251700, 252) (251700, 88)\n"
          ],
          "name": "stdout"
        }
      ]
    },
    {
      "cell_type": "code",
      "metadata": {
        "id": "JFmcwckeXokt"
      },
      "source": [
        "features =252\n",
        "batch_size = 512\n",
        "numepochs = 50"
      ],
      "execution_count": 20,
      "outputs": []
    },
    {
      "cell_type": "code",
      "metadata": {
        "id": "e7tfgOEXXc2-"
      },
      "source": [
        "def build_model():\n",
        "  model = tf.keras.Sequential(\n",
        "      [\n",
        "       tf.keras.layers.Dense(256, activation=\"relu\"),\n",
        "       tf.keras.layers.Dropout(0.3),\n",
        "       tf.keras.layers.Dense(256, activation=\"relu\"),\n",
        "       tf.keras.layers.Dropout(0.3),\n",
        "       tf.keras.layers.Dense(128, activation=\"tanh\"),\n",
        "       tf.keras.layers.Dropout(0.3),\n",
        "       tf.keras.layers.Dense(88, activation=\"sigmoid\")\n",
        "      ]\n",
        "      )\n",
        "  return model"
      ],
      "execution_count": 21,
      "outputs": []
    },
    {
      "cell_type": "code",
      "metadata": {
        "id": "JukliBdBXZ30"
      },
      "source": [
        "model = build_model()"
      ],
      "execution_count": 24,
      "outputs": []
    },
    {
      "cell_type": "code",
      "metadata": {
        "colab": {
          "base_uri": "https://localhost:8080/"
        },
        "id": "fwSvAOoDZ8CL",
        "outputId": "c14cb84f-8d93-47c8-e6f8-caa8e9794906"
      },
      "source": [
        "optimizer = tf.keras.optimizers.Adam()\n",
        "model.compile(optimizer=optimizer, loss = \"binary_crossentropy\", metrics=['accuracy'])\n",
        "stop = tf.keras.callbacks.EarlyStopping(monitor='val_loss', patience=8, mode='auto')\n",
        "history = model.fit(X_train,y_train,epochs=numepochs,batch_size=batch_size,verbose=1,validation_data=(X_valid,y_valid), callbacks=stop)"
      ],
      "execution_count": 25,
      "outputs": [
        {
          "output_type": "stream",
          "text": [
            "Epoch 1/50\n",
            "3096/3096 [==============================] - 12s 4ms/step - loss: 0.1119 - accuracy: 0.2232 - val_loss: 0.1096 - val_accuracy: 0.2584\n",
            "Epoch 2/50\n",
            "3096/3096 [==============================] - 12s 4ms/step - loss: 0.0852 - accuracy: 0.2893 - val_loss: 0.1063 - val_accuracy: 0.2457\n",
            "Epoch 3/50\n",
            "3096/3096 [==============================] - 12s 4ms/step - loss: 0.0799 - accuracy: 0.2950 - val_loss: 0.1057 - val_accuracy: 0.2529\n",
            "Epoch 4/50\n",
            "3096/3096 [==============================] - 12s 4ms/step - loss: 0.0773 - accuracy: 0.2975 - val_loss: 0.1043 - val_accuracy: 0.2603\n",
            "Epoch 5/50\n",
            "3096/3096 [==============================] - 11s 4ms/step - loss: 0.0756 - accuracy: 0.2992 - val_loss: 0.1057 - val_accuracy: 0.2556\n",
            "Epoch 6/50\n",
            "3096/3096 [==============================] - 11s 4ms/step - loss: 0.0744 - accuracy: 0.2999 - val_loss: 0.1046 - val_accuracy: 0.2639\n",
            "Epoch 7/50\n",
            "3096/3096 [==============================] - 11s 4ms/step - loss: 0.0736 - accuracy: 0.3002 - val_loss: 0.1035 - val_accuracy: 0.2619\n",
            "Epoch 8/50\n",
            "3096/3096 [==============================] - 11s 3ms/step - loss: 0.0728 - accuracy: 0.3011 - val_loss: 0.1036 - val_accuracy: 0.2601\n",
            "Epoch 9/50\n",
            "3096/3096 [==============================] - 11s 3ms/step - loss: 0.0723 - accuracy: 0.3015 - val_loss: 0.1041 - val_accuracy: 0.2433\n",
            "Epoch 10/50\n",
            "3096/3096 [==============================] - 11s 4ms/step - loss: 0.0718 - accuracy: 0.3023 - val_loss: 0.1031 - val_accuracy: 0.2526\n",
            "Epoch 11/50\n",
            "3096/3096 [==============================] - 12s 4ms/step - loss: 0.0714 - accuracy: 0.3038 - val_loss: 0.1029 - val_accuracy: 0.2622\n",
            "Epoch 12/50\n",
            "3096/3096 [==============================] - 11s 3ms/step - loss: 0.0710 - accuracy: 0.3036 - val_loss: 0.1035 - val_accuracy: 0.2533\n",
            "Epoch 13/50\n",
            "3096/3096 [==============================] - 11s 3ms/step - loss: 0.0707 - accuracy: 0.3037 - val_loss: 0.1034 - val_accuracy: 0.2583\n",
            "Epoch 14/50\n",
            "3096/3096 [==============================] - 11s 4ms/step - loss: 0.0705 - accuracy: 0.3045 - val_loss: 0.1017 - val_accuracy: 0.2560\n",
            "Epoch 15/50\n",
            "3096/3096 [==============================] - 11s 3ms/step - loss: 0.0703 - accuracy: 0.3053 - val_loss: 0.1020 - val_accuracy: 0.2652\n",
            "Epoch 16/50\n",
            "3096/3096 [==============================] - 11s 4ms/step - loss: 0.0701 - accuracy: 0.3057 - val_loss: 0.1026 - val_accuracy: 0.2506\n",
            "Epoch 17/50\n",
            "3096/3096 [==============================] - 12s 4ms/step - loss: 0.0700 - accuracy: 0.3062 - val_loss: 0.1019 - val_accuracy: 0.2615\n",
            "Epoch 18/50\n",
            "3096/3096 [==============================] - 11s 4ms/step - loss: 0.0698 - accuracy: 0.3054 - val_loss: 0.1028 - val_accuracy: 0.2633\n",
            "Epoch 19/50\n",
            "3096/3096 [==============================] - 17s 6ms/step - loss: 0.0697 - accuracy: 0.3076 - val_loss: 0.1028 - val_accuracy: 0.2607\n",
            "Epoch 20/50\n",
            "3096/3096 [==============================] - 11s 3ms/step - loss: 0.0696 - accuracy: 0.3076 - val_loss: 0.1028 - val_accuracy: 0.2562\n",
            "Epoch 21/50\n",
            "3096/3096 [==============================] - 11s 4ms/step - loss: 0.0696 - accuracy: 0.3080 - val_loss: 0.1028 - val_accuracy: 0.2660\n",
            "Epoch 22/50\n",
            "3096/3096 [==============================] - 12s 4ms/step - loss: 0.0695 - accuracy: 0.3089 - val_loss: 0.1016 - val_accuracy: 0.2612\n",
            "Epoch 23/50\n",
            "3096/3096 [==============================] - 11s 4ms/step - loss: 0.0695 - accuracy: 0.3078 - val_loss: 0.1011 - val_accuracy: 0.2548\n",
            "Epoch 24/50\n",
            "3096/3096 [==============================] - 11s 4ms/step - loss: 0.0695 - accuracy: 0.3076 - val_loss: 0.1029 - val_accuracy: 0.2578\n",
            "Epoch 25/50\n",
            "3096/3096 [==============================] - 11s 4ms/step - loss: 0.0694 - accuracy: 0.3085 - val_loss: 0.1017 - val_accuracy: 0.2661\n",
            "Epoch 26/50\n",
            "3096/3096 [==============================] - 11s 4ms/step - loss: 0.0695 - accuracy: 0.3091 - val_loss: 0.1016 - val_accuracy: 0.2594\n",
            "Epoch 27/50\n",
            "3096/3096 [==============================] - 12s 4ms/step - loss: 0.0694 - accuracy: 0.3089 - val_loss: 0.1022 - val_accuracy: 0.2530\n",
            "Epoch 28/50\n",
            "3096/3096 [==============================] - 13s 4ms/step - loss: 0.0694 - accuracy: 0.3087 - val_loss: 0.1015 - val_accuracy: 0.2628\n",
            "Epoch 29/50\n",
            "3096/3096 [==============================] - 11s 4ms/step - loss: 0.0694 - accuracy: 0.3086 - val_loss: 0.1017 - val_accuracy: 0.2662\n",
            "Epoch 30/50\n",
            "3096/3096 [==============================] - 11s 4ms/step - loss: 0.0694 - accuracy: 0.3085 - val_loss: 0.1019 - val_accuracy: 0.2617\n",
            "Epoch 31/50\n",
            "3096/3096 [==============================] - 11s 4ms/step - loss: 0.0695 - accuracy: 0.3077 - val_loss: 0.1017 - val_accuracy: 0.2574\n"
          ],
          "name": "stdout"
        }
      ]
    },
    {
      "cell_type": "code",
      "metadata": {
        "id": "PAChggX0gdWY"
      },
      "source": [
        "def plot_history(history):\n",
        "\n",
        "    fig, axs = plt.subplots()\n",
        "\n",
        "    \"\"\"# create the accuracy subplot\n",
        "    axs[0].plot(history.history[\"accuracy\"], label = \"train accuracy\")\n",
        "    axs[0].plot(history.history[\"val_accuracy\"], label = \"test accuracy\")\n",
        "    axs[0].set_ylabel('Accuracy')\n",
        "    axs[0].set_xlabel(\"Epoch\")\n",
        "    axs[0].legend(loc =\"lower right\")\n",
        "    axs[0].set_title(\"Accuracy eval\")\"\"\"\n",
        "\n",
        "    # create the error subplot\n",
        "    axs.plot(history.history[\"loss\"], label=\"train error\")\n",
        "    axs.plot(history.history[\"val_loss\"], label=\"test error\")\n",
        "    axs.set_ylabel('Error')\n",
        "    axs.set_xlabel(\"Epoch\")\n",
        "    axs.legend(loc=\"upper right\")\n",
        "    axs.set_title(\"Error eval\")\n",
        "\n",
        "    plt.show()"
      ],
      "execution_count": 30,
      "outputs": []
    },
    {
      "cell_type": "code",
      "metadata": {
        "colab": {
          "base_uri": "https://localhost:8080/",
          "height": 295
        },
        "id": "IW8fQPj7mXw9",
        "outputId": "8a9e68c2-93e5-4dd7-9975-fab3f4ca1208"
      },
      "source": [
        "plot_history(history)"
      ],
      "execution_count": 31,
      "outputs": [
        {
          "output_type": "display_data",
          "data": {
            "image/png": "[encoded data removed]",
            "text/plain": [
              "<Figure size 432x288 with 1 Axes>"
            ]
          },
          "metadata": {
            "tags": [],
            "needs_background": "light"
          }
        }
      ]
    },
    {
      "cell_type": "code",
      "metadata": {
        "colab": {
          "base_uri": "https://localhost:8080/"
        },
        "id": "v4kwio6-hVcp",
        "outputId": "4d79851a-5ae5-49a1-83a3-d10836768d23"
      },
      "source": [
        "pred = model.predict(X_test)\n",
        "print(pred.shape)"
      ],
      "execution_count": 33,
      "outputs": [
        {
          "output_type": "stream",
          "text": [
            "(251700, 88)\n"
          ],
          "name": "stdout"
        }
      ]
    },
    {
      "cell_type": "code",
      "metadata": {
        "id": "EfcbxH4KheTs"
      },
      "source": [
        "pred = pred>=0.5\n",
        "pred = pred-0.0"
      ],
      "execution_count": 34,
      "outputs": []
    },
    {
      "cell_type": "code",
      "metadata": {
        "id": "hbagAozwgZmP"
      },
      "source": [
        "true_positives = 0\n",
        "false_positives = 0\n",
        "false_negatives = 0\n",
        "\n",
        "for j in range(pred.shape[0]):\n",
        "  for k in range(pred.shape[1]):\n",
        "    if y_test[j][k] == 1.0 and pred[j][k] == 1.0:\n",
        "        true_positives+=1                                \n",
        "    elif y_test[j][k] == 1.0 and pred[j][k] == 0.0:\n",
        "        false_negatives+=1\n",
        "    elif y_test[j][k] == 0.0 and pred[j][k] == 1.0:\n",
        "        false_positives+=1\n",
        "accuracy = (true_positives/(true_positives+false_positives+false_negatives))\n",
        "precision = true_positives/(true_positives+false_positives)\n",
        "recall = true_positives/(true_positives+false_negatives)\n",
        "fscore = (2*precision*recall)/(precision+recall)\n"
      ],
      "execution_count": 35,
      "outputs": []
    },
    {
      "cell_type": "code",
      "metadata": {
        "colab": {
          "base_uri": "https://localhost:8080/"
        },
        "id": "_xD-h9uahzeE",
        "outputId": "3269e511-2f87-433d-cacb-f322b6cf2a31"
      },
      "source": [
        "print(accuracy, precision, recall, fscore)"
      ],
      "execution_count": 36,
      "outputs": [
        {
          "output_type": "stream",
          "text": [
            "0.49406729653635023 0.7518150125868828 0.590353155968136 0.6613722121911524\n"
          ],
          "name": "stdout"
        }
      ]
    },
    {
      "cell_type": "code",
      "metadata": {
        "id": "53qzU1-F-lBl"
      },
      "source": [
        "model.save(\"dnn_trained.h5\")"
      ],
      "execution_count": 37,
      "outputs": []
    }
  ]
}
